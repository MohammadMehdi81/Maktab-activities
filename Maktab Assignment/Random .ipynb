{
 "cells": [
  {
   "cell_type": "code",
   "execution_count": 69,
   "id": "6d27f6a1",
   "metadata": {},
   "outputs": [
    {
     "name": "stdout",
     "output_type": "stream",
     "text": [
      "340\n",
      "305\n",
      "445\n"
     ]
    }
   ],
   "source": [
    "import random\n",
    "\n",
    "for _ in range(3):\n",
    "    value = random.randrange(100,1000,5)\n",
    "    print(value)"
   ]
  },
  {
   "cell_type": "code",
   "execution_count": 70,
   "id": "a6609efc",
   "metadata": {},
   "outputs": [
    {
     "name": "stdout",
     "output_type": "stream",
     "text": [
      "[2391428011, 1228461713]\n"
     ]
    }
   ],
   "source": [
    "import random\n",
    "\n",
    "numbers = set()\n",
    "\n",
    "while len(numbers) != 100:\n",
    "    numbers.add(random.randrange(1000000000,10000000000))\n",
    "\n",
    "print(random.sample(list(numbers), 2))"
   ]
  },
  {
   "cell_type": "code",
   "execution_count": 73,
   "id": "0a2ab2a3",
   "metadata": {},
   "outputs": [
    {
     "name": "stdout",
     "output_type": "stream",
     "text": [
      "8%HE.)+=(/\n"
     ]
    }
   ],
   "source": [
    "import random \n",
    "from random import shuffle\n",
    "\n",
    "v1 = 0 \n",
    "v2 = 0\n",
    "v3 = 0 \n",
    "v4 = 0\n",
    "\n",
    "while v1 + v2 + v3 + v4 != 10:\n",
    "    v1 = random.randrange(2,9)\n",
    "    v2 = random.randrange(1,9)\n",
    "    v3 = random.randrange(1,9)\n",
    "    v4 = random.randrange(0,9)\n",
    "    \n",
    "\n",
    "\n",
    "list1 = list('abcdefghijklmnopqrstuvwxyz'.upper())\n",
    "list2 = list('!@%/()=?+.-_')\n",
    "list3 = list('1234567890')\n",
    "list4 = list('abcdefghijklmnopqrstuvwxyz')\n",
    "\n",
    "\n",
    "result1 = random.sample(list1, v1)\n",
    "result2 = random.sample(list2, v2)\n",
    "result3 = random.sample(list3, v3)\n",
    "result4 = random.sample(list4, v4)\n",
    "\n",
    "password_list = result1 + result2 + result3 + result4\n",
    "random.shuffle(password_list)\n",
    "\n",
    "string = \"\".join(password_list)\n",
    "print(string)"
   ]
  }
 ],
 "metadata": {
  "kernelspec": {
   "display_name": "Python 3 (ipykernel)",
   "language": "python",
   "name": "python3"
  },
  "language_info": {
   "codemirror_mode": {
    "name": "ipython",
    "version": 3
   },
   "file_extension": ".py",
   "mimetype": "text/x-python",
   "name": "python",
   "nbconvert_exporter": "python",
   "pygments_lexer": "ipython3",
   "version": "3.10.7"
  }
 },
 "nbformat": 4,
 "nbformat_minor": 5
}
