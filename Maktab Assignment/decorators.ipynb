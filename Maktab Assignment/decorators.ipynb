{
 "cells": [
  {
   "cell_type": "code",
   "execution_count": 53,
   "id": "abd1ffed",
   "metadata": {},
   "outputs": [
    {
     "name": "stdout",
     "output_type": "stream",
     "text": [
      "ali\n",
      "ali\n",
      "ali\n",
      "ali\n",
      "ali\n",
      "ali\n"
     ]
    }
   ],
   "source": [
    "def do_multi_times(repeat = 2):\n",
    "    def decorator(func):\n",
    "        def wrapped():\n",
    "            for i in range(repeat):\n",
    "                func()   \n",
    "        return wrapped\n",
    "    return decorator\n",
    "\n",
    "\n",
    "@do_multi_times(6)\n",
    "def printt():\n",
    "    print(\"ali\")\n",
    "\n",
    "printt()"
   ]
  },
  {
   "cell_type": "code",
   "execution_count": 54,
   "id": "0b3ce0fd",
   "metadata": {},
   "outputs": [
    {
     "name": "stdout",
     "output_type": "stream",
     "text": [
      "this is called before!\n",
      "hello\n"
     ]
    }
   ],
   "source": [
    "def do_before(func):\n",
    "    func()\n",
    "    def decorator(my_func):\n",
    "        def wrapped():\n",
    "            my_func()   \n",
    "        return wrapped\n",
    "    return decorator\n",
    "\n",
    "\n",
    "@do_before(func) \n",
    "def my_func():\n",
    "    print('hello')\n",
    "\n",
    "def func():\n",
    "    print('this is called before!')    \n",
    "    \n",
    "    \n",
    "my_func()"
   ]
  },
  {
   "cell_type": "code",
   "execution_count": null,
   "id": "1448ea7a",
   "metadata": {},
   "outputs": [],
   "source": []
  }
 ],
 "metadata": {
  "kernelspec": {
   "display_name": "Python 3 (ipykernel)",
   "language": "python",
   "name": "python3"
  },
  "language_info": {
   "codemirror_mode": {
    "name": "ipython",
    "version": 3
   },
   "file_extension": ".py",
   "mimetype": "text/x-python",
   "name": "python",
   "nbconvert_exporter": "python",
   "pygments_lexer": "ipython3",
   "version": "3.10.7"
  }
 },
 "nbformat": 4,
 "nbformat_minor": 5
}
