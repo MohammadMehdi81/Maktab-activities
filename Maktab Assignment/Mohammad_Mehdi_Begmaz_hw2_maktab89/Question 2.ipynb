{
 "cells": [
  {
   "cell_type": "markdown",
   "id": "52cf2e7b",
   "metadata": {},
   "source": [
    "<h1>Question 2</h1>"
   ]
  },
  {
   "cell_type": "markdown",
   "id": "8f815ebb",
   "metadata": {},
   "source": [
    "<h3>With reduce() function</h3>"
   ]
  },
  {
   "cell_type": "code",
   "execution_count": 8,
   "id": "87744b22",
   "metadata": {},
   "outputs": [
    {
     "name": "stdout",
     "output_type": "stream",
     "text": [
      "-336\n"
     ]
    }
   ],
   "source": [
    "import functools\n",
    " \n",
    "input_list = [7 ,-1 ,3 ,2 ,8]\n",
    " \n",
    "print(functools.reduce(lambda a, b: a*b, input_list))"
   ]
  },
  {
   "cell_type": "markdown",
   "id": "c99e0ece",
   "metadata": {},
   "source": [
    "<h3>Just in one line:</h3> "
   ]
  },
  {
   "cell_type": "code",
   "execution_count": 9,
   "id": "87856fae",
   "metadata": {},
   "outputs": [
    {
     "name": "stdout",
     "output_type": "stream",
     "text": [
      "-336\n"
     ]
    }
   ],
   "source": [
    "print(functools.reduce(lambda a, b: a*b, [7 ,-1 ,3 ,2 ,8]))"
   ]
  },
  {
   "cell_type": "markdown",
   "id": "fb2ee621",
   "metadata": {},
   "source": [
    "<h3> Without reduce() function </h3>"
   ]
  },
  {
   "cell_type": "code",
   "execution_count": 11,
   "id": "562a5251",
   "metadata": {},
   "outputs": [
    {
     "name": "stdout",
     "output_type": "stream",
     "text": [
      "-336\n"
     ]
    }
   ],
   "source": [
    "def multiply(list):\n",
    "    multy = 1;\n",
    "    for i in list:\n",
    "        multy *= i\n",
    "    return multy\n",
    "\n",
    "input_list = [7 ,-1 ,3 ,2 ,8]\n",
    "print(multiply(input_list))"
   ]
  }
 ],
 "metadata": {
  "kernelspec": {
   "display_name": "Python 3 (ipykernel)",
   "language": "python",
   "name": "python3"
  },
  "language_info": {
   "codemirror_mode": {
    "name": "ipython",
    "version": 3
   },
   "file_extension": ".py",
   "mimetype": "text/x-python",
   "name": "python",
   "nbconvert_exporter": "python",
   "pygments_lexer": "ipython3",
   "version": "3.10.7"
  }
 },
 "nbformat": 4,
 "nbformat_minor": 5
}
