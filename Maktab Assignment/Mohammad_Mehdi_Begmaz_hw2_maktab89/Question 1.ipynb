{
 "cells": [
  {
   "cell_type": "markdown",
   "id": "ead24fc8",
   "metadata": {},
   "source": [
    "<h1>Question 1</h1>"
   ]
  },
  {
   "cell_type": "code",
   "execution_count": 4,
   "id": "fd0fbd3b",
   "metadata": {},
   "outputs": [
    {
     "name": "stdout",
     "output_type": "stream",
     "text": [
      "[32.0, 33.8, 35.6, 37.4, 39.2, 41.0]\n"
     ]
    }
   ],
   "source": [
    "def temp_conv(c):\n",
    "    return (c * (9/5)) + 32\n",
    "\n",
    "input_list = [0,1,2,3,4,5]\n",
    "\n",
    "result = list(map(temp_conv, input_list))\n",
    "\n",
    "print(result)"
   ]
  },
  {
   "cell_type": "markdown",
   "id": "48e7cff8",
   "metadata": {},
   "source": [
    "<h3>With lambda function:</h3>"
   ]
  },
  {
   "cell_type": "code",
   "execution_count": 8,
   "id": "ab7d2baf",
   "metadata": {},
   "outputs": [
    {
     "name": "stdout",
     "output_type": "stream",
     "text": [
      "[32.0, 33.8, 35.6, 37.4, 39.2, 41.0]\n"
     ]
    }
   ],
   "source": [
    "input_list = [0,1,2,3,4,5]\n",
    "\n",
    "print(list(map(lambda c: (c * (9/5)) + 32, input_list)))"
   ]
  }
 ],
 "metadata": {
  "kernelspec": {
   "display_name": "Python 3 (ipykernel)",
   "language": "python",
   "name": "python3"
  },
  "language_info": {
   "codemirror_mode": {
    "name": "ipython",
    "version": 3
   },
   "file_extension": ".py",
   "mimetype": "text/x-python",
   "name": "python",
   "nbconvert_exporter": "python",
   "pygments_lexer": "ipython3",
   "version": "3.10.7"
  }
 },
 "nbformat": 4,
 "nbformat_minor": 5
}
