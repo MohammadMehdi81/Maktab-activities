{
 "cells": [
  {
   "cell_type": "markdown",
   "id": "09fe4eeb",
   "metadata": {},
   "source": [
    "<h1>Question 6</h1>"
   ]
  },
  {
   "cell_type": "markdown",
   "id": "346d76f5",
   "metadata": {},
   "source": [
    "<h3>Count to determine number of frequency and Set for finding uniques (without order)</h3>"
   ]
  },
  {
   "cell_type": "code",
   "execution_count": 8,
   "id": "5fb5abd1",
   "metadata": {},
   "outputs": [
    {
     "name": "stdout",
     "output_type": "stream",
     "text": [
      "{'o': 3, 'c': 1, 'g': 2, 'm': 1, 'l': 1, 'w': 3, '.': 2, 'e': 1}\n"
     ]
    }
   ],
   "source": [
    "input_str = \"www.google.com\"\n",
    "  \n",
    "result = {i : input_str.count(i) for i in set(input_str)}\n",
    "  \n",
    "print (result)"
   ]
  },
  {
   "cell_type": "markdown",
   "id": "622421f1",
   "metadata": {},
   "source": [
    "<h3>with dictionary: key -> character, value -> frequency (with order)</h3>"
   ]
  },
  {
   "cell_type": "code",
   "execution_count": 7,
   "id": "c4153fd0",
   "metadata": {},
   "outputs": [
    {
     "name": "stdout",
     "output_type": "stream",
     "text": [
      "{'w': 3, '.': 2, 'g': 2, 'o': 3, 'l': 1, 'e': 1, 'c': 1, 'm': 1}\n"
     ]
    }
   ],
   "source": [
    "input_str = \"www.google.com\"\n",
    "  \n",
    "result = {}\n",
    "  \n",
    "for keys in input_str:\n",
    "    result[keys] = result.get(keys, 0) + 1\n",
    "\n",
    "    \n",
    "print (result)   "
   ]
  }
 ],
 "metadata": {
  "kernelspec": {
   "display_name": "Python 3 (ipykernel)",
   "language": "python",
   "name": "python3"
  },
  "language_info": {
   "codemirror_mode": {
    "name": "ipython",
    "version": 3
   },
   "file_extension": ".py",
   "mimetype": "text/x-python",
   "name": "python",
   "nbconvert_exporter": "python",
   "pygments_lexer": "ipython3",
   "version": "3.10.7"
  }
 },
 "nbformat": 4,
 "nbformat_minor": 5
}
