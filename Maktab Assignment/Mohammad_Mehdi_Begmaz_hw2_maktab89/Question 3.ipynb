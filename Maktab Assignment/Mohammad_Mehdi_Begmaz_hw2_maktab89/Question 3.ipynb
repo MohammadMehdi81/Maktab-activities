{
 "cells": [
  {
   "cell_type": "markdown",
   "id": "96a5d6a2",
   "metadata": {},
   "source": [
    "<h1>Question 3</h1>"
   ]
  },
  {
   "cell_type": "code",
   "execution_count": 6,
   "id": "83cb40e8",
   "metadata": {},
   "outputs": [
    {
     "name": "stdout",
     "output_type": "stream",
     "text": [
      "Enter your number: 3\n",
      "True\n"
     ]
    }
   ],
   "source": [
    "import math \n",
    "\n",
    "def prime(number): \n",
    "    if number == 1 or number == 0:\n",
    "        return False\n",
    "    for i in range(int(math.sqrt(number))+1):\n",
    "        if (i != 0 and i != 1 and number % i == 0):\n",
    "            return False\n",
    "    return True\n",
    "\n",
    "number = int(input(\"Enter your number: \"))\n",
    "\n",
    "print(prime(number))"
   ]
  },
  {
   "cell_type": "markdown",
   "id": "da9a1a4d",
   "metadata": {},
   "source": [
    "<h3>Shorter: (with map and lambda)</h3>"
   ]
  },
  {
   "cell_type": "code",
   "execution_count": 11,
   "id": "3205fa3f",
   "metadata": {},
   "outputs": [
    {
     "name": "stdout",
     "output_type": "stream",
     "text": [
      "Enter your number: 1\n",
      "False\n"
     ]
    }
   ],
   "source": [
    "number = int(input(\"Enter your number: \"))\n",
    "\n",
    "if number == 1 or number == 0:\n",
    "    print(False)\n",
    "else:\n",
    "    result = map(lambda i: (i != 0 and i != 1 and number % i == 0), range(int(math.sqrt(number)+1)))\n",
    "    print(True not in result)"
   ]
  },
  {
   "cell_type": "markdown",
   "id": "0068add9",
   "metadata": {},
   "source": [
    "<h3>Just in one line: </h3>"
   ]
  },
  {
   "cell_type": "code",
   "execution_count": 77,
   "id": "3a19457d",
   "metadata": {},
   "outputs": [
    {
     "name": "stdout",
     "output_type": "stream",
     "text": [
      "Enter your number: 45\n",
      "False\n"
     ]
    }
   ],
   "source": [
    "print(True not in map(lambda i: (i != 0 and i != 1 and number % i == 0), range(int(math.sqrt(int(input(\"Enter your number: \")))+1))))"
   ]
  }
 ],
 "metadata": {
  "kernelspec": {
   "display_name": "Python 3 (ipykernel)",
   "language": "python",
   "name": "python3"
  },
  "language_info": {
   "codemirror_mode": {
    "name": "ipython",
    "version": 3
   },
   "file_extension": ".py",
   "mimetype": "text/x-python",
   "name": "python",
   "nbconvert_exporter": "python",
   "pygments_lexer": "ipython3",
   "version": "3.10.7"
  }
 },
 "nbformat": 4,
 "nbformat_minor": 5
}
