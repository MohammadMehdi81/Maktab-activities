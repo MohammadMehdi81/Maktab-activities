{
 "cells": [
  {
   "cell_type": "markdown",
   "id": "412af476",
   "metadata": {},
   "source": [
    "<h1>Question 5</h1>"
   ]
  },
  {
   "cell_type": "code",
   "execution_count": 11,
   "id": "14204fd9",
   "metadata": {},
   "outputs": [
    {
     "name": "stdout",
     "output_type": "stream",
     "text": [
      "Sorted list:\n",
      "[(2, 1), (1, 2), (3, 2), (5, 2), (4, 4)]\n"
     ]
    }
   ],
   "source": [
    "def sort(tuples):\n",
    "    return sorted(tuples, key= lambda x: x[-1])\n",
    "  \n",
    "list_of_tuples =[(1 ,2) ,(3 ,2) ,(4 ,4) ,(2 ,1) ,(5 ,2)]\n",
    "print(\"Sorted list:\")\n",
    "print(sort(list_of_tuples))"
   ]
  }
 ],
 "metadata": {
  "kernelspec": {
   "display_name": "Python 3 (ipykernel)",
   "language": "python",
   "name": "python3"
  },
  "language_info": {
   "codemirror_mode": {
    "name": "ipython",
    "version": 3
   },
   "file_extension": ".py",
   "mimetype": "text/x-python",
   "name": "python",
   "nbconvert_exporter": "python",
   "pygments_lexer": "ipython3",
   "version": "3.10.7"
  }
 },
 "nbformat": 4,
 "nbformat_minor": 5
}
