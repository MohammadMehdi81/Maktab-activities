{
 "cells": [
  {
   "cell_type": "markdown",
   "id": "975a8203",
   "metadata": {},
   "source": [
    "<h1>Question 4</h1>"
   ]
  },
  {
   "cell_type": "code",
   "execution_count": 61,
   "id": "23584495",
   "metadata": {},
   "outputs": [
    {
     "name": "stdout",
     "output_type": "stream",
     "text": [
      "Enter your number: 442254545\n",
      "22345\n"
     ]
    }
   ],
   "source": [
    "input_str = input(\"Enter your number: \")\n",
    "\n",
    "def Encryption(string):\n",
    "    result = \"\"\n",
    "    list_r = list(map(int, set(string)))\n",
    "    \n",
    "    for i in set(string):\n",
    "        if(string.count(i) > 1):\n",
    "            list_r.append(string.count(i))\n",
    "    \n",
    "    list_r = sorted(list_r)\n",
    "    \n",
    "    for ele in list_r:\n",
    "        result += str(ele)\n",
    "    \n",
    "    return result\n",
    "\n",
    "n = Encryption(input_str)\n",
    "\n",
    "while n != input_str:\n",
    "    input_str = n\n",
    "    n = Encryption(input_str)\n",
    "    \n",
    "print(input_str)"
   ]
  }
 ],
 "metadata": {
  "kernelspec": {
   "display_name": "Python 3 (ipykernel)",
   "language": "python",
   "name": "python3"
  },
  "language_info": {
   "codemirror_mode": {
    "name": "ipython",
    "version": 3
   },
   "file_extension": ".py",
   "mimetype": "text/x-python",
   "name": "python",
   "nbconvert_exporter": "python",
   "pygments_lexer": "ipython3",
   "version": "3.10.7"
  }
 },
 "nbformat": 4,
 "nbformat_minor": 5
}
