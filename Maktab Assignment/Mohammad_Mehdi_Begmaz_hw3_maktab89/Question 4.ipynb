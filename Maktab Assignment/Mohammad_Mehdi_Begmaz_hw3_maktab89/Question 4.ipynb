{
 "cells": [
  {
   "cell_type": "code",
   "execution_count": 1,
   "id": "b9a7a5e7",
   "metadata": {},
   "outputs": [],
   "source": [
    "list1 = list('abcdefghijklmnopqrstuvwxyz'.upper())\n",
    "list2 = list('!@%/()=?+.-_')\n",
    "list3 = list('1234567890')\n",
    "list4 = list('abcdefghijklmnopqrstuvwxyz')\n",
    "\n",
    "words = set()\n",
    "string = ''\n",
    "\n",
    "with open('iran.txt') as f:\n",
    "    while True:\n",
    "        line = f.readline()\n",
    "        if not line:\n",
    "            break\n",
    "        for i in range(len(line)):\n",
    "            if line[i] not in list1:\n",
    "                continue\n",
    "            elif line[i-1] in list4:\n",
    "                continue\n",
    "            else:\n",
    "                while (line[i] in list4) or (line[i] in list1):\n",
    "                    string += line[i]\n",
    "                    i += 1\n",
    "                words.add(string)\n",
    "                string = ''\n",
    "with open(f\"result.txt\", \"a+\") as db:\n",
    "    for i in words:\n",
    "        db.write(f\"{i}\\n\")"
   ]
  }
 ],
 "metadata": {
  "kernelspec": {
   "display_name": "Python 3 (ipykernel)",
   "language": "python",
   "name": "python3"
  },
  "language_info": {
   "codemirror_mode": {
    "name": "ipython",
    "version": 3
   },
   "file_extension": ".py",
   "mimetype": "text/x-python",
   "name": "python",
   "nbconvert_exporter": "python",
   "pygments_lexer": "ipython3",
   "version": "3.10.7"
  }
 },
 "nbformat": 4,
 "nbformat_minor": 5
}
