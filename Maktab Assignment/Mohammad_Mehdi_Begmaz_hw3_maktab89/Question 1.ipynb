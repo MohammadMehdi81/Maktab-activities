{
 "cells": [
  {
   "cell_type": "markdown",
   "id": "19dbecbd",
   "metadata": {},
   "source": [
    "<h1>Question 1</h1>"
   ]
  },
  {
   "cell_type": "markdown",
   "id": "84256afa",
   "metadata": {},
   "source": [
    "<h3>Define time_process dacorator:</h3>"
   ]
  },
  {
   "cell_type": "code",
   "execution_count": 1,
   "id": "353c4509",
   "metadata": {},
   "outputs": [],
   "source": [
    "import time\n",
    "\n",
    "def timer_func(func):\n",
    "    def wrap_func(*args, **kwargs):\n",
    "        t1 = time.time()\n",
    "        func(*args, **kwargs)\n",
    "        t2 = time.time()\n",
    "        return t2 - t1\n",
    "    return wrap_func  \n",
    "\n",
    "def cache(function):\n",
    "    memo = {}\n",
    "    with open(f'{function.__name__}.txt') as f:\n",
    "        while True:\n",
    "            line = f.readline()\n",
    "            if not line:\n",
    "                break\n",
    "            lines = line.split(\":\")\n",
    "            memo[line[0]] = line[1]\n",
    "            \n",
    "    def wrapper(*args):\n",
    "        if args in memo:\n",
    "            return memo[args]\n",
    "        else:\n",
    "            rv = function(*args)\n",
    "            memo[args] = rv\n",
    "            with open(f\"{function.__name__}.txt\", \"a+\") as db:\n",
    "                db.write(f\"{args[0]}:{rv}\\n\")\n",
    "            return rv\n",
    "    return wrapper"
   ]
  },
  {
   "cell_type": "markdown",
   "id": "a7e580cc",
   "metadata": {},
   "source": [
    "<h3>Factoriel function: </h3>"
   ]
  },
  {
   "cell_type": "code",
   "execution_count": 2,
   "id": "039ded44",
   "metadata": {},
   "outputs": [],
   "source": [
    "@timer_func\n",
    "@cache\n",
    "def factoriel(n):\n",
    "    if n == 0:\n",
    "        return 1\n",
    "    return n * factoriel(n-1)"
   ]
  },
  {
   "cell_type": "markdown",
   "id": "996fcac2",
   "metadata": {},
   "source": [
    "<h3>Fibonachi function:</h3>"
   ]
  },
  {
   "cell_type": "code",
   "execution_count": 3,
   "id": "fcd43768",
   "metadata": {},
   "outputs": [],
   "source": [
    "@timer_func\n",
    "@cache\n",
    "def fibonachi(n):\n",
    "    if n == 0:\n",
    "        return 0\n",
    "    if n == 1:\n",
    "        return 1\n",
    "    return fibonachi(n-2) + fibonachi(n-1)"
   ]
  },
  {
   "cell_type": "code",
   "execution_count": 4,
   "id": "4bcba44f",
   "metadata": {},
   "outputs": [
    {
     "name": "stdout",
     "output_type": "stream",
     "text": [
      "fibonachi is:  0.0029289722442626953 \n",
      "factorial is:  0.0015382766723632812\n"
     ]
    }
   ],
   "source": [
    "result_fi = fibonachi(10)\n",
    "result_fa = factoriel(10)\n",
    "print(\"fibonachi is: \",result_fi, \"\\nfactorial is: \", result_fa)"
   ]
  },
  {
   "cell_type": "code",
   "execution_count": null,
   "id": "495b8ceb",
   "metadata": {},
   "outputs": [],
   "source": []
  },
  {
   "cell_type": "code",
   "execution_count": null,
   "id": "14b9b8e8",
   "metadata": {},
   "outputs": [],
   "source": []
  }
 ],
 "metadata": {
  "kernelspec": {
   "display_name": "Python 3 (ipykernel)",
   "language": "python",
   "name": "python3"
  },
  "language_info": {
   "codemirror_mode": {
    "name": "ipython",
    "version": 3
   },
   "file_extension": ".py",
   "mimetype": "text/x-python",
   "name": "python",
   "nbconvert_exporter": "python",
   "pygments_lexer": "ipython3",
   "version": "3.10.7"
  }
 },
 "nbformat": 4,
 "nbformat_minor": 5
}
