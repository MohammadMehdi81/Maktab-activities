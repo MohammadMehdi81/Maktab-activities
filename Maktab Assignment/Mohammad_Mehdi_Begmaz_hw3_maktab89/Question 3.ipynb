{
 "cells": [
  {
   "cell_type": "markdown",
   "id": "fa60c745",
   "metadata": {},
   "source": [
    "<h3>Handle with 'raise':</h3>"
   ]
  },
  {
   "cell_type": "code",
   "execution_count": 2,
   "id": "ff2719e5",
   "metadata": {},
   "outputs": [
    {
     "name": "stdout",
     "output_type": "stream",
     "text": [
      "5\n",
      "7\n",
      "9\n",
      "11\n"
     ]
    }
   ],
   "source": [
    "def myImplementationOfRange(firstParam:int, secondParam:int =None, thirdParam:int =None):\n",
    "    if (not isinstance(firstParam, int)):\n",
    "        raise TypeError(\"'\" + firstParam.__class__.__name__ + \"' object cannot be interpreted as an integer\")\n",
    "\n",
    "    if not isinstance(secondParam, int):\n",
    "        raise TypeError(\"'\" + secondParam.__class__.__name__ + \"' object cannot be interpreted as an integer\")\n",
    "\n",
    "    if not isinstance(thirdParam, int):\n",
    "        raise TypeError(\"'\" + thirdParam.__class__.__name__ + \"' object cannot be interpreted as an integer\")\n",
    "\n",
    "    if secondParam is None:\n",
    "        start = 0\n",
    "        stop = firstParam\n",
    "        step = 1\n",
    "    elif thirdParam is None:\n",
    "        start = firstParam\n",
    "        stop = secondParam\n",
    "        step = 1\n",
    "    else:\n",
    "        if thirdParam == 0:\n",
    "            raise ValueError('myImplementationOfRange() arg 3 must not be zero')\n",
    "        start = firstParam\n",
    "        stop = secondParam\n",
    "        step = thirdParam\n",
    "\n",
    "    i = start\n",
    "    if step > 0:  \n",
    "        while i < stop:\n",
    "            yield i\n",
    "            i += step\n",
    "        return i\n",
    "    elif step < 0:  \n",
    "        while i > stop:\n",
    "            yield i\n",
    "            i += step  \n",
    "        return i\n",
    "\n",
    "\n",
    "n = float(10)\n",
    "for i in myImplementationOfRange(5, 12, 2):\n",
    "    print(i)"
   ]
  },
  {
   "cell_type": "markdown",
   "id": "8fc44086",
   "metadata": {},
   "source": [
    "<h3>Handle with 'try and except':</h3>"
   ]
  },
  {
   "cell_type": "code",
   "execution_count": 5,
   "id": "593e4923",
   "metadata": {},
   "outputs": [],
   "source": [
    "def exp(ValueError, TypeError):\n",
    "    print(\"Error !!! \\ninvalid input!\")"
   ]
  },
  {
   "cell_type": "code",
   "execution_count": 9,
   "id": "790d5f01",
   "metadata": {},
   "outputs": [
    {
     "name": "stdout",
     "output_type": "stream",
     "text": [
      "5\n",
      "7\n",
      "9\n",
      "11\n"
     ]
    }
   ],
   "source": [
    "def myImplementationOfRange(firstParam:int, secondParam:int =None, thirdParam:int =None):\n",
    "    try:\n",
    "        if (not isinstance(firstParam, int)):\n",
    "            raise TypeError(\"'\" + firstParam.__class__.__name__ + \"' object cannot be interpreted as an integer\")\n",
    "    \n",
    "        if not isinstance(secondParam, int):\n",
    "            raise TypeError(\"'\" + secondParam.__class__.__name__ + \"' object cannot be interpreted as an integer\")\n",
    "\n",
    "        if not isinstance(thirdParam, int):\n",
    "            raise TypeError(\"'\" + thirdParam.__class__.__name__ + \"' object cannot be interpreted as an integer\")\n",
    "            \n",
    "        if secondParam is None:\n",
    "            start = 0\n",
    "            stop = firstParam\n",
    "            step = 1\n",
    "        elif thirdParam is None:\n",
    "            start = firstParam\n",
    "            stop = secondParam\n",
    "            step = 1\n",
    "        else:\n",
    "            if thirdParam == 0:\n",
    "                raise ValueError('myImplementationOfRange() arg 3 must not be zero')\n",
    "            start = firstParam\n",
    "            stop = secondParam\n",
    "            step = thirdParam\n",
    "\n",
    "        i = start\n",
    "        if step > 0:  \n",
    "            while i < stop:\n",
    "                yield i\n",
    "                i += step\n",
    "            return i\n",
    "        elif step < 0:  \n",
    "            while i > stop:\n",
    "                yield i\n",
    "                i += step  \n",
    "            return i\n",
    "    except(ValueError, TypeError): \n",
    "            print(\"Error !!! \\ninvalid input!\")\n",
    "\n",
    "    \n",
    "\n",
    "n = float(10)\n",
    "for i in myImplementationOfRange(5, 12, 2):\n",
    "    print(i)"
   ]
  }
 ],
 "metadata": {
  "kernelspec": {
   "display_name": "Python 3 (ipykernel)",
   "language": "python",
   "name": "python3"
  },
  "language_info": {
   "codemirror_mode": {
    "name": "ipython",
    "version": 3
   },
   "file_extension": ".py",
   "mimetype": "text/x-python",
   "name": "python",
   "nbconvert_exporter": "python",
   "pygments_lexer": "ipython3",
   "version": "3.10.7"
  }
 },
 "nbformat": 4,
 "nbformat_minor": 5
}
