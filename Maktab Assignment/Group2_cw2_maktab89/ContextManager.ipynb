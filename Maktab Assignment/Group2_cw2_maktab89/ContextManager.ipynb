{
 "cells": [
  {
   "cell_type": "code",
   "execution_count": 2,
   "id": "bbdf462a",
   "metadata": {},
   "outputs": [
    {
     "name": "stdout",
     "output_type": "stream",
     "text": [
      "Function1 time is: \n",
      "\t\t 0.09171795845031738\n",
      "Function2 time is: \n",
      "\t\t 0.08457231521606445\n"
     ]
    }
   ],
   "source": [
    "import time\n",
    "from contextlib import contextmanager\n",
    "\n",
    "@contextmanager\n",
    "def ContextManager():\n",
    "    start = time.time()\n",
    "    yield \n",
    "    end = time.time()\n",
    "    time_delta = end - start\n",
    "    print(\"\\t\\t\", time_delta)\n",
    "    \n",
    "\n",
    "with ContextManager() as manager:\n",
    "    li = [(i, j) for i in range(1000) for j in range(1000)]\n",
    "    print(\"Function1 time is: \")\n",
    "    \n",
    "with ContextManager() as manager:\n",
    "    li = []\n",
    "    for i in range(1000):\n",
    "        for j in range(1000):\n",
    "            li.append((i, j))\n",
    "    print(\"Function2 time is: \")"
   ]
  }
 ],
 "metadata": {
  "kernelspec": {
   "display_name": "Python 3 (ipykernel)",
   "language": "python",
   "name": "python3"
  },
  "language_info": {
   "codemirror_mode": {
    "name": "ipython",
    "version": 3
   },
   "file_extension": ".py",
   "mimetype": "text/x-python",
   "name": "python",
   "nbconvert_exporter": "python",
   "pygments_lexer": "ipython3",
   "version": "3.10.7"
  }
 },
 "nbformat": 4,
 "nbformat_minor": 5
}
